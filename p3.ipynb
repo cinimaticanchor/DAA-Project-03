{
  "nbformat": 4,
  "nbformat_minor": 0,
  "metadata": {
    "colab": {
      "provenance": [],
      "authorship_tag": "ABX9TyOuK03OnBPfC+UXYSlMhJyb",
      "include_colab_link": true
    },
    "kernelspec": {
      "name": "python3",
      "display_name": "Python 3"
    },
    "language_info": {
      "name": "python"
    }
  },
  "cells": [
    {
      "cell_type": "markdown",
      "metadata": {
        "id": "view-in-github",
        "colab_type": "text"
      },
      "source": [
        "<a href=\"https://colab.research.google.com/github/cinimaticanchor/DAA-Project-03/blob/main/p3.ipynb\" target=\"_parent\"><img src=\"https://colab.research.google.com/assets/colab-badge.svg\" alt=\"Open In Colab\"/></a>"
      ]
    },
    {
      "cell_type": "code",
      "source": [
        "\n",
        "!pip install ipython-autotime\n",
        "%load_ext autotime"
      ],
      "metadata": {
        "id": "5vrr-bHwmIvk"
      },
      "execution_count": null,
      "outputs": []
    },
    {
      "cell_type": "code",
      "source": [
        "import random\n",
        "\n",
        "def main():\n",
        "    n = 10\n",
        "    k = 2\n",
        "\n",
        "    arr = random.sample(range(10, 30000), 10)\n",
        "\n",
        "    ans = mvbln(arr, n - 1, k)\n",
        "    print(ans)\n",
        "\n",
        "def mvbln(a, i, m):\n",
        "    if i < 0 or m < 0:\n",
        "        return 0\n",
        "    else:\n",
        "        return max(\n",
        "            max(mvbln(a, i - 1, m), mvbln(a, i - 1, m - 1) + a[i]),\n",
        "            mvbln(a, i - 2, m) + a[i]\n",
        "        )\n",
        "\n",
        "main()"
      ],
      "metadata": {
        "colab": {
          "base_uri": "https://localhost:8080/"
        },
        "id": "8mxUytp-MXVc",
        "outputId": "33d941e1-be0a-47c2-f6e8-ace7cab55226"
      },
      "execution_count": 2,
      "outputs": [
        {
          "output_type": "stream",
          "name": "stdout",
          "text": [
            "104041\n",
            "time: 2.77 ms (started: 2023-11-02 16:11:14 +00:00)\n"
          ]
        }
      ]
    }
  ]
}