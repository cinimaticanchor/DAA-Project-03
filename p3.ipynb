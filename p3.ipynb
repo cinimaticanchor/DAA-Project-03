{
  "nbformat": 4,
  "nbformat_minor": 0,
  "metadata": {
    "colab": {
      "provenance": [],
      "authorship_tag": "ABX9TyPi9SmuYdlQ7ecXo4Cbr6YD",
      "include_colab_link": true
    },
    "kernelspec": {
      "name": "python3",
      "display_name": "Python 3"
    },
    "language_info": {
      "name": "python"
    }
  },
  "cells": [
    {
      "cell_type": "markdown",
      "metadata": {
        "id": "view-in-github",
        "colab_type": "text"
      },
      "source": [
        "<a href=\"https://colab.research.google.com/github/cinimaticanchor/DAA-Project-03/blob/main/p3.ipynb\" target=\"_parent\"><img src=\"https://colab.research.google.com/assets/colab-badge.svg\" alt=\"Open In Colab\"/></a>"
      ]
    },
    {
      "cell_type": "code",
      "source": [
        "\n",
        "!pip install ipython-autotime\n",
        "%load_ext autotime"
      ],
      "metadata": {
        "id": "5vrr-bHwmIvk"
      },
      "execution_count": null,
      "outputs": []
    },
    {
      "cell_type": "code",
      "source": [
        "import random\n",
        "def maximize_sum(a, k):\n",
        "    n = len(a)\n",
        "    b = [0] * n\n",
        "    # Create a table to store the maximum sum for each index with k adjacent 1s\n",
        "    dp = [[0] * (k + 2) for _ in range(n)]\n",
        "    # Initialize the table for the first element in the array\n",
        "    for i in range(k + 2):\n",
        "        dp[0][i] = a[0] if i == 1 else 0\n",
        "    # Iterate through the elements in the array\n",
        "    for j in range(1, k+2):\n",
        "        for i in range(1,n):\n",
        "             dp[i][j] = max(dp[i-1][j], dp[i-1][j-1]+a[i],dp[i - 2][j]+a[i])\n",
        "             if dp[i-1][j]>=dp[i - 2][j]+a[i]:\n",
        "                 b[i]=0\n",
        "             else:\n",
        "                 b[i]=1\n",
        "    print(dp[n-1][k+1])\n",
        "\n",
        "\n",
        "\n",
        "\n",
        "def main():\n",
        "    k = 5\n",
        "\n",
        "    arr = random.sample(range(10, 3000000), 200000)\n",
        "\n",
        "    ans = maximize_sum(arr, k)\n",
        "    print(ans)\n",
        "\n",
        "main()"
      ],
      "metadata": {
        "id": "mNlArJvNJQKB"
      },
      "execution_count": null,
      "outputs": []
    },
    {
      "cell_type": "code",
      "source": [],
      "metadata": {
        "id": "gnapVlG3gfGS"
      },
      "execution_count": null,
      "outputs": []
    }
  ]
}